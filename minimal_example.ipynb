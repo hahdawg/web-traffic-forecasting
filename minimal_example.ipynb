{
 "cells": [
  {
   "cell_type": "code",
   "execution_count": null,
   "metadata": {},
   "outputs": [],
   "source": []
  },
  {
   "cell_type": "code",
   "execution_count": 32,
   "metadata": {},
   "outputs": [],
   "source": [
    "def conv_fwd(xs, w, b, dilation):\n",
    "    \"\"\"\n",
    "    Parameters\n",
    "    ----------\n",
    "    xs: np.array\n",
    "        [batch_size, seq_len, num_features]\n",
    "    w: [2, num_features, num_outputs]\n",
    "    \"\"\"\n",
    "    batch_size, seq_len, num_features = xs.shape\n",
    "    pad = np.zeros((batch_size, dilation, num_features))\n",
    "    print pad.shape, xs.shape\n",
    "    xs = np.concatenate([pad, xs], axis=1)\n",
    "    conv = []\n",
    "    for s, t in enumerate(xrange(dilation, xs.shape[1])):\n",
    "        conv_s = xs[:, t - dilation, :].dot(w[0, :]) + xs[:, t, :].dot(w[1, :]) + b\n",
    "        conv_s = conv_s[:, np.newaxis, :]\n",
    "        conv.append(conv_s)\n",
    "    \n",
    "    conv = np.concatenate(conv, axis=1)\n",
    "    return conv\n",
    "\n",
    "\n",
    "def relu_fwd(xs):\n",
    "    return np.maximum(xs, 0)\n",
    "    \n",
    "    "
   ]
  },
  {
   "cell_type": "code",
   "execution_count": 33,
   "metadata": {},
   "outputs": [
    {
     "name": "stdout",
     "output_type": "stream",
     "text": [
      "(32, 2, 2) (32, 100, 2)\n"
     ]
    }
   ],
   "source": [
    "batch_size = 32\n",
    "seq_len = 100\n",
    "num_features = 2\n",
    "xs = randn(batch_size, seq_len, num_features)\n",
    "w = np.ones((2, num_features, 64))\n",
    "b = np.zeros(64)\n",
    "f = conv_fwd(xs, w, b, 2)"
   ]
  },
  {
   "cell_type": "code",
   "execution_count": 31,
   "metadata": {},
   "outputs": [
    {
     "data": {
      "text/plain": [
       "(32, 100, 64)"
      ]
     },
     "execution_count": 31,
     "metadata": {},
     "output_type": "execute_result"
    }
   ],
   "source": [
    "f.shape"
   ]
  },
  {
   "cell_type": "code",
   "execution_count": null,
   "metadata": {},
   "outputs": [],
   "source": []
  }
 ],
 "metadata": {
  "kernelspec": {
   "display_name": "Python 2",
   "language": "python",
   "name": "python2"
  },
  "language_info": {
   "codemirror_mode": {
    "name": "ipython",
    "version": 2
   },
   "file_extension": ".py",
   "mimetype": "text/x-python",
   "name": "python",
   "nbconvert_exporter": "python",
   "pygments_lexer": "ipython2",
   "version": "2.7.14"
  }
 },
 "nbformat": 4,
 "nbformat_minor": 2
}
